{
 "cells": [
  {
   "cell_type": "markdown",
   "id": "b891da79",
   "metadata": {},
   "source": [
    "[![Open In Colab](https://colab.research.google.com/assets/colab-badge.svg)](https://colab.research.google.com/drive/1mnbkWTTaJYY7vapcgXJLsGBIWIFM3YTp)"
   ]
  },
  {
   "cell_type": "code",
   "execution_count": null,
   "id": "4dfdd76e",
   "metadata": {},
   "outputs": [],
   "source": [
    "# Install Miniconda\n",
    "!wget https://repo.anaconda.com/miniconda/Miniconda3-latest-Linux-x86_64.sh\n",
    "!chmod +x Miniconda3-latest-Linux-x86_64.sh\n",
    "!bash ./Miniconda3-latest-Linux-x86_64.sh -b -f -p /usr/local\n",
    "\n",
    "# Update Conda\n",
    "!conda update -n base -c defaults conda -y\n",
    "\n",
    "# Add Conda to PATH\n",
    "import sys\n",
    "sys.path.append('/usr/local/lib/python3.8/site-packages/')\n",
    "print(sys.executable)"
   ]
  },
  {
   "cell_type": "code",
   "execution_count": null,
   "id": "a87689cb",
   "metadata": {},
   "outputs": [],
   "source": [
    "# !source ~/anaconda3/etc/profile.d/conda.sh\n",
    "!conda init bash\n",
    "!conda create -yn streaming python=3.8"
   ]
  },
  {
   "cell_type": "code",
   "execution_count": null,
   "id": "16864099",
   "metadata": {},
   "outputs": [],
   "source": [
    "!source activate streaming\n",
    "!pip install torch torchvision torchaudio\n",
    "!pip install transformers==4.33.0 accelerate datasets evaluate wandb scikit-learn scipy sentencepiece"
   ]
  },
  {
   "cell_type": "code",
   "execution_count": null,
   "id": "5f1790ae",
   "metadata": {},
   "outputs": [],
   "source": [
    "# demo测试\n",
    "!git clone https://github.com/mit-han-lab/streaming-llm.git\n",
    "%cd /content/streaming-llm\n",
    "!pwd\n",
    "!python3 setup.py develop"
   ]
  },
  {
   "cell_type": "code",
   "execution_count": null,
   "id": "8b6e36d9",
   "metadata": {},
   "outputs": [],
   "source": [
    "!source activate streaming\n",
    "!pwd\n",
    "!CUDA_VISIBLE_DEVICES=0 python3 examples/run_streaming_llama.py  --enable_streaming --model_name_or_path lmsys/vicuna-7b-v1.3"
   ]
  }
 ],
 "metadata": {
  "kernelspec": {
   "display_name": "Python 3 (ipykernel)",
   "language": "python",
   "name": "python3"
  },
  "language_info": {
   "codemirror_mode": {
    "name": "ipython",
    "version": 3
   },
   "file_extension": ".py",
   "mimetype": "text/x-python",
   "name": "python",
   "nbconvert_exporter": "python",
   "pygments_lexer": "ipython3",
   "version": "3.10.12"
  }
 },
 "nbformat": 4,
 "nbformat_minor": 5
}
