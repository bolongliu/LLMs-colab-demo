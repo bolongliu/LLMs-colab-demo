{
 "cells": [
  {
   "cell_type": "markdown",
   "id": "4e4d057f",
   "metadata": {},
   "source": [
    "[![Open In Colab](https://colab.research.google.com/assets/colab-badge.svg)](https://colab.research.google.com/drive/1mnbkWTTaJYY7vapcgXJLsGBIWIFM3YTp)"
   ]
  },
  {
   "cell_type": "code",
   "execution_count": null,
   "id": "984cd455",
   "metadata": {},
   "outputs": [],
   "source": [
    "# Install Miniconda\n",
    "!wget https://repo.anaconda.com/miniconda/Miniconda3-latest-Linux-x86_64.sh\n",
    "!chmod +x Miniconda3-latest-Linux-x86_64.sh\n",
    "!bash ./Miniconda3-latest-Linux-x86_64.sh -b -f -p /usr/local\n",
    "\n",
    "# Update Conda\n",
    "!conda update -n base -c defaults conda -y\n",
    "\n",
    "# Add Conda to PATH\n",
    "import sys\n",
    "sys.path.append('/usr/local/lib/python3.8/site-packages/')\n",
    "print(sys.executable)"
   ]
  },
  {
   "cell_type": "code",
   "execution_count": null,
   "id": "b3e5efc5",
   "metadata": {},
   "outputs": [],
   "source": [
    "# 配置conda环境\n",
    "# !source ~/anaconda3/etc/profile.d/conda.sh\n",
    "!conda init bash\n",
    "!conda create -yn colabdemo python=3.8"
   ]
  },
  {
   "cell_type": "code",
   "execution_count": null,
   "id": "274a6ccd",
   "metadata": {},
   "outputs": [],
   "source": [
    "# 激活环境并安装依赖\n",
    "!source activate streaming\n",
    "!pip install torch torchvision torchaudio\n",
    "!pip install transformers==4.33.0 accelerate datasets evaluate wandb scikit-learn scipy sentencepiece"
   ]
  },
  {
   "cell_type": "code",
   "execution_count": null,
   "id": "5f952ca5",
   "metadata": {},
   "outputs": [],
   "source": [
    "# 克隆仓库，注意使用仓库的SSH形式链接会报错，请使用https的方式\n",
    "# 将\n",
    "# git clone git@github.com:mit-han-lab/streaming-llm.git\n",
    "# 改为\n",
    "# https://github.com/mit-han-lab/streaming-llm.git"
   ]
  }
 ],
 "metadata": {
  "kernelspec": {
   "display_name": "Python 3 (ipykernel)",
   "language": "python",
   "name": "python3"
  },
  "language_info": {
   "codemirror_mode": {
    "name": "ipython",
    "version": 3
   },
   "file_extension": ".py",
   "mimetype": "text/x-python",
   "name": "python",
   "nbconvert_exporter": "python",
   "pygments_lexer": "ipython3",
   "version": "3.10.12"
  }
 },
 "nbformat": 4,
 "nbformat_minor": 5
}
